{
  "nbformat": 4,
  "nbformat_minor": 0,
  "metadata": {
    "colab": {
      "name": "DAY 4 ASSIGNMENT",
      "provenance": [],
      "authorship_tag": "ABX9TyPYDFgidkeNOnP8OcMR85ti",
      "include_colab_link": true
    },
    "kernelspec": {
      "name": "python3",
      "display_name": "Python 3"
    }
  },
  "cells": [
    {
      "cell_type": "markdown",
      "metadata": {
        "id": "view-in-github",
        "colab_type": "text"
      },
      "source": [
        "<a href=\"https://colab.research.google.com/github/Meer2362/PHYTON/blob/master/DAY_4_ASSIGNMENT.ipynb\" target=\"_parent\"><img src=\"https://colab.research.google.com/assets/colab-badge.svg\" alt=\"Open In Colab\"/></a>"
      ]
    },
    {
      "cell_type": "code",
      "metadata": {
        "id": "BOTqMcLBnwod",
        "colab_type": "code",
        "colab": {}
      },
      "source": [
        "for i in range (1042000,702648265):\n",
        "print (\"enter number -\", int):\n",
        "if int = i\n",
        "print(\"armstrong number\"):"
      ],
      "execution_count": null,
      "outputs": []
    }
  ]
}