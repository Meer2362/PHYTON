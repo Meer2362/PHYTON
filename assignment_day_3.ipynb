{
  "nbformat": 4,
  "nbformat_minor": 0,
  "metadata": {
    "colab": {
      "name": "assignment day 3",
      "provenance": [],
      "authorship_tag": "ABX9TyOJGk6o1RXrqB9LYvawMgcG",
      "include_colab_link": true
    },
    "kernelspec": {
      "name": "python3",
      "display_name": "Python 3"
    }
  },
  "cells": [
    {
      "cell_type": "markdown",
      "metadata": {
        "id": "view-in-github",
        "colab_type": "text"
      },
      "source": [
        "<a href=\"https://colab.research.google.com/github/Meer2362/PHYTON/blob/master/assignment_day_3.ipynb\" target=\"_parent\"><img src=\"https://colab.research.google.com/assets/colab-badge.svg\" alt=\"Open In Colab\"/></a>"
      ]
    },
    {
      "cell_type": "code",
      "metadata": {
        "id": "9W8olLnAVA2W",
        "colab_type": "code",
        "colab": {}
      },
      "source": [
        "num=(\"enter the aptitude - \")\n",
        "num =int(num)\n",
        "if  num < 1000:\n",
        "print (\"safe to land\")\n",
        "else if 5000<num >1000\n",
        "print(\"bring it to 1000\")\n",
        "else \n",
        "print(\"turn around\")"
      ],
      "execution_count": null,
      "outputs": []
    },
    {
      "cell_type": "code",
      "metadata": {
        "id": "vzkcMkDGZL8I",
        "colab_type": "code",
        "colab": {}
      },
      "source": [
        "num = 1\n",
        "num1 = 200\n",
        "print(\"prime number between \", num, \"and\",upper,\"are:\")\n",
        "for num2 in range(num,num1+1):\n",
        "  if nnum2>1:\n",
        "    for i in range (2,num):\n",
        "      if (num%i)==0:\n",
        "        break\n",
        "        else:\n",
        "          print(num2)"
      ],
      "execution_count": null,
      "outputs": []
    }
  ]
}